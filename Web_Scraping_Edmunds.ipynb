{
 "cells": [
  {
   "cell_type": "code",
   "execution_count": 1,
   "id": "e3bdf567",
   "metadata": {},
   "outputs": [
    {
     "name": "stdout",
     "output_type": "stream",
     "text": [
      "Requirement already satisfied: selenium in h:\\anaconda3\\lib\\site-packages (3.141.0)\n",
      "Requirement already satisfied: urllib3 in h:\\anaconda3\\lib\\site-packages (from selenium) (1.26.4)\n"
     ]
    }
   ],
   "source": [
    "#insstalling important libraries\n",
    "!pip install selenium"
   ]
  },
  {
   "cell_type": "code",
   "execution_count": 2,
   "id": "303e5030",
   "metadata": {},
   "outputs": [
    {
     "name": "stdout",
     "output_type": "stream",
     "text": [
      "Requirement already satisfied: autoscraper in h:\\anaconda3\\lib\\site-packages (1.1.12)\n",
      "Requirement already satisfied: requests in h:\\anaconda3\\lib\\site-packages (from autoscraper) (2.25.1)\n",
      "Requirement already satisfied: lxml in h:\\anaconda3\\lib\\site-packages (from autoscraper) (4.6.3)\n",
      "Requirement already satisfied: bs4 in h:\\anaconda3\\lib\\site-packages (from autoscraper) (0.0.1)\n",
      "Requirement already satisfied: beautifulsoup4 in h:\\anaconda3\\lib\\site-packages (from bs4->autoscraper) (4.9.3)\n",
      "Requirement already satisfied: soupsieve>1.2 in h:\\anaconda3\\lib\\site-packages (from beautifulsoup4->bs4->autoscraper) (2.2.1)\n",
      "Requirement already satisfied: idna<3,>=2.5 in h:\\anaconda3\\lib\\site-packages (from requests->autoscraper) (2.10)\n",
      "Requirement already satisfied: chardet<5,>=3.0.2 in h:\\anaconda3\\lib\\site-packages (from requests->autoscraper) (4.0.0)\n",
      "Requirement already satisfied: urllib3<1.27,>=1.21.1 in h:\\anaconda3\\lib\\site-packages (from requests->autoscraper) (1.26.4)\n",
      "Requirement already satisfied: certifi>=2017.4.17 in h:\\anaconda3\\lib\\site-packages (from requests->autoscraper) (2020.12.5)\n"
     ]
    }
   ],
   "source": [
    "!pip install autoscraper"
   ]
  },
  {
   "cell_type": "code",
   "execution_count": 5,
   "id": "83ba11e2",
   "metadata": {},
   "outputs": [],
   "source": [
    "from selenium import webdriver\n",
    "from autoscraper import AutoScraper\n",
    "import time"
   ]
  },
  {
   "cell_type": "code",
   "execution_count": 6,
   "id": "fb84e9ee",
   "metadata": {},
   "outputs": [],
   "source": [
    "Path = \"https://www.edmunds.com/cars-for-sale-by-owner/\""
   ]
  },
  {
   "cell_type": "code",
   "execution_count": 7,
   "id": "b0d96478",
   "metadata": {},
   "outputs": [],
   "source": [
    "#driver = webdriver.chrome(Path);\n",
    "#webdriver.get(\"https://www.edmunds.com/cars-for-sale-by-owner/\")"
   ]
  },
  {
   "cell_type": "code",
   "execution_count": 8,
   "id": "cf36d0e0",
   "metadata": {},
   "outputs": [],
   "source": [
    "website_url = \"https://www.edmunds.com/cars-for-sale-by-owner/\"\n",
    "wanted_product = [\"2018 Honda CR-V\",\"$22,447\",\"5J6RW5H33JL000893\",\"Gas Engine\",\"Keyless Entry\"]"
   ]
  },
  {
   "cell_type": "code",
   "execution_count": null,
   "id": "766af8bc",
   "metadata": {},
   "outputs": [],
   "source": [
    "scraper = AutoScraper()\n",
    "result = scraper.build(website_url,wanted_product)\n",
    "print(result)"
   ]
  },
  {
   "cell_type": "code",
   "execution_count": null,
   "id": "5317503b",
   "metadata": {},
   "outputs": [],
   "source": []
  }
 ],
 "metadata": {
  "kernelspec": {
   "display_name": "Python 3",
   "language": "python",
   "name": "python3"
  },
  "language_info": {
   "codemirror_mode": {
    "name": "ipython",
    "version": 3
   },
   "file_extension": ".py",
   "mimetype": "text/x-python",
   "name": "python",
   "nbconvert_exporter": "python",
   "pygments_lexer": "ipython3",
   "version": "3.8.8"
  }
 },
 "nbformat": 4,
 "nbformat_minor": 5
}
